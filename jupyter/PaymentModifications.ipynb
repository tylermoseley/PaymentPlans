{
 "cells": [
  {
   "cell_type": "code",
   "outputs": [],
   "source": [
    "import pandas as pd\n",
    "import warnings"
   ],
   "metadata": {
    "collapsed": false,
    "ExecuteTime": {
     "end_time": "2024-02-21T18:27:43.315412700Z",
     "start_time": "2024-02-21T18:27:42.531077300Z"
    }
   },
   "id": "fb4de58244e36ba0",
   "execution_count": 1
  },
  {
   "cell_type": "code",
   "outputs": [],
   "source": [
    "# Suppress UserWarnings emitted by openpyxl due to missing CSS in Hae file\n",
    "with warnings.catch_warnings(record=True):\n",
    "    warnings.simplefilter(\"ignore\", category=UserWarning)\n",
    "    PayPlans = pd.read_excel('../data/paymentRulesMatrix.xlsx', header=11)\n",
    "MarketingUpdates = pd.read_excel('../data/Marketing Compensation file 2024-999.xlsm')\n",
    "Mappings = pd.read_excel(io='../data/Marketing Compensation file 2024-999.xlsm', \n",
    "                         sheet_name='Lookups', \n",
    "                         usecols='E:I', \n",
    "                         header=0)\n",
    "Specialty = pd.read_excel(io='../data/Marketing Compensation file 2024-999.xlsm', \n",
    "                         sheet_name='Specialty', \n",
    "                         usecols='B:J', \n",
    "                         header=2)"
   ],
   "metadata": {
    "collapsed": true,
    "ExecuteTime": {
     "end_time": "2024-02-21T18:27:45.127908700Z",
     "start_time": "2024-02-21T18:27:43.319413800Z"
    }
   },
   "id": "initial_id",
   "execution_count": 2
  },
  {
   "cell_type": "code",
   "outputs": [],
   "source": [
    "OriginalPayPlans = PayPlans.copy()\n",
    "OriginalPayPlans.set_index('Payment Ruleset Code:Name', inplace=True)\n",
    "PayPlans['RULENAME'] = PayPlans['Payment Ruleset Code:Name'].str.split(':').str[1]\n",
    "PayPlans['RuleCode'] = PayPlans['Payment Ruleset Code:Name'].str.split(':').str[0]\n",
    "# wide_df = PayPlans.pivot_table(index='Date', columns='Variable', values='Value', aggfunc='sum')"
   ],
   "metadata": {
    "collapsed": false,
    "ExecuteTime": {
     "end_time": "2024-02-21T19:09:21.599757200Z",
     "start_time": "2024-02-21T19:09:21.590958500Z"
    }
   },
   "id": "a821290a7c5bf4f6",
   "execution_count": 39
  },
  {
   "cell_type": "code",
   "outputs": [],
   "source": [
    "ProposeCols = [None] + [col for col in MarketingUpdates.columns if col.lower().startswith('proposal')]\n",
    "ProposeCol = ProposeCols[6]\n",
    "# MarketingUpdates.columns"
   ],
   "metadata": {
    "collapsed": false,
    "ExecuteTime": {
     "end_time": "2024-02-21T18:28:10.686962500Z",
     "start_time": "2024-02-21T18:28:10.678426300Z"
    }
   },
   "id": "d61fb5e2a53be312",
   "execution_count": 4
  },
  {
   "cell_type": "code",
   "outputs": [],
   "source": [
    "MarketingUpdatesMod = (MarketingUpdates\n",
    "    .loc[MarketingUpdates['#'].isna()]\n",
    "    .loc[MarketingUpdates['IT Use.1'].notna()]\n",
    "    .loc[MarketingUpdates['DONOR COMPENSATION'].notna()]\n",
    "    .merge(Mappings, how='left', left_on='DONOR COMPENSATION', right_on='Business Name')\n",
    "    .merge(PayPlans, how='left', left_on='RULENAME', right_on='RULENAME')\n",
    "    [['IT Use.1', 'Payment Ruleset Code:Name', ProposeCol, 'Business Name', 'RULENAME']]\n",
    ")"
   ],
   "metadata": {
    "collapsed": false,
    "ExecuteTime": {
     "end_time": "2024-02-21T18:54:49.502000900Z",
     "start_time": "2024-02-21T18:54:49.463369700Z"
    }
   },
   "id": "19dc9ef15cdacbdc",
   "execution_count": 31
  },
  {
   "cell_type": "markdown",
   "source": [
    "#################################### For Donor App test"
   ],
   "metadata": {
    "collapsed": false
   },
   "id": "f3a4a37dbb0c1444"
  },
  {
   "cell_type": "code",
   "outputs": [],
   "source": [
    "col_filter = ['RULENAME', 'RuleCode'] + [col for col in PayPlans.columns if col.lower().startswith('amount')]\n",
    "\n",
    "PayPlansFil = PayPlans[col_filter]\n",
    "PayPlansFil.columns = ['RULENAME', 'RuleCode'] + [col[12:] for col in col_filter if col.lower().startswith('amount')]\n",
    "\n",
    "PayPlansLong = pd.melt(PayPlansFil, id_vars=['RULENAME', 'RuleCode'], var_name='site_code', value_name='amount')\n",
    "Compensation = PayPlansLong.merge(MarketingUpdatesMod, how='left', left_on=['site_code', 'RULENAME'], right_on=['IT Use.1', 'RULENAME'])\n",
    "\n",
    "Compensation = Compensation[['site_code', 'RULENAME', 'RuleCode', 'Business Name', 'amount']]\n",
    "Compensation.columns = ['CenterID', 'ProgramID', 'PaymentNameNL', 'PaymentTypeDescription', 'Amount']\n",
    "Compensation['ProgramID'] = Compensation['ProgramID'].str.replace('2X ', '')\n",
    "Compensation['ProgramID'] = Compensation['ProgramID'].str.replace('Week ', '')\n",
    "Compensation['ProgramID'] = Compensation['ProgramID'].str.replace('3X ', '')\n",
    "Compensation['ProgramID'] = Compensation['ProgramID'].str.replace('4X ', '')\n",
    "Compensation['ProgramID'] = Compensation['ProgramID'].str.replace('5X ', '')\n",
    "Compensation['ProgramID'] = Compensation['ProgramID'].str.replace('6X ', '')\n",
    "Compensation['ProgramID'] = Compensation['ProgramID'].str.replace('7X ', '')\n",
    "Compensation['ProgramID'] = Compensation['ProgramID'].str.replace('8X ', '')\n",
    "Compensation = Compensation[Compensation['Amount'].notna() & (Compensation['Amount'] != '')]\n",
    "Compensation['CenterID'] = Compensation['CenterID'].str.replace('CP', '')\n",
    "\n",
    "Compensation.to_excel('../data/Compensation.xlsx', index=False)\n"
   ],
   "metadata": {
    "collapsed": false,
    "ExecuteTime": {
     "end_time": "2024-02-21T19:22:26.001435800Z",
     "start_time": "2024-02-21T19:22:25.174309100Z"
    }
   },
   "id": "3741b995fb6867b9",
   "execution_count": 52
  },
  {
   "cell_type": "markdown",
   "source": [
    "#####################################################"
   ],
   "metadata": {
    "collapsed": false
   },
   "id": "a35d74f438bd3b96"
  },
  {
   "cell_type": "code",
   "outputs": [],
   "source": [
    "# Pivot\n",
    "MarketingUpdatesMod = MarketingUpdatesMod.pivot_table(index='Payment Ruleset Code:Name', columns='IT Use.1', values=ProposeCol)\n"
   ],
   "metadata": {
    "collapsed": false,
    "ExecuteTime": {
     "end_time": "2024-02-21T18:28:26.645396800Z",
     "start_time": "2024-02-21T18:28:26.523440500Z"
    }
   },
   "id": "44a6dd09d318a619",
   "execution_count": 6
  },
  {
   "cell_type": "code",
   "outputs": [],
   "source": [
    "SpecialtyMod = (Specialty\n",
    "    .merge(PayPlans, how='left', left_on='Name (calculated)', right_on='RULENAME')\n",
    "    [['PROFILECODE', 'Payment Ruleset Code:Name', 'new Fee']]\n",
    ")\n",
    "# SpecialtyMod = SpecialtyMod.pivot_table(index='Payment Ruleset Code:Name', columns='PROFILECODE', values = 'new Fee')\n",
    "# SpecialtyMod.columns = [\"Amount ($): \" + col for col in SpecialtyMod.columns]\n"
   ],
   "metadata": {
    "collapsed": false,
    "ExecuteTime": {
     "end_time": "2024-02-21T18:28:33.426581900Z",
     "start_time": "2024-02-21T18:28:33.417875500Z"
    }
   },
   "id": "bfc34bdcea628a02",
   "execution_count": 7
  },
  {
   "cell_type": "code",
   "outputs": [],
   "source": [
    "UpdatedPayPlans = PayPlans.copy()\n",
    "UpdatedPayPlans = pd.DataFrame({\n",
    "    'Payment Ruleset Code:Name_copy': UpdatedPayPlans['Payment Ruleset Code:Name']\n",
    "}).join(UpdatedPayPlans)\n",
    "UpdatedPayPlans.set_index('Payment Ruleset Code:Name', inplace=True)\n",
    "\n",
    "UpdatedPayPlans.rename(columns={'Payment Ruleset Code:Name_copy': 'Payment Ruleset Code:Name'}, inplace=True)\n",
    "amount_columns = UpdatedPayPlans.filter(like='Amount ($)').columns\n",
    "MarketingUpdatesMod[amount_columns] = MarketingUpdatesMod[amount_columns].astype(float)\n",
    "UpdatedPayPlans = UpdatedPayPlans.drop('RULENAME', axis=1)    \n",
    "UpdatedPayPlans.update(MarketingUpdatesMod, overwrite=True)\n",
    "priority_columns = UpdatedPayPlans.filter(like='Priority:').columns\n",
    "UpdatedPayPlans[priority_columns] = UpdatedPayPlans[priority_columns].astype('Int32')\n",
    "UpdatedPayPlans.update(SpecialtyMod)"
   ],
   "metadata": {
    "collapsed": false,
    "ExecuteTime": {
     "end_time": "2024-02-21T18:24:56.832269200Z",
     "start_time": "2024-02-21T18:24:56.718033500Z"
    }
   },
   "id": "4d1a0ce809405c4a",
   "execution_count": 11
  },
  {
   "cell_type": "code",
   "outputs": [],
   "source": [
    "placeholder = 99999\n",
    "differences = OriginalPayPlans.fillna(placeholder).ne(UpdatedPayPlans.fillna(placeholder))\n",
    "row_specialty_differences = differences.loc[differences.index.isin(SpecialtyMod.index)]\n",
    "SpecialtyColumns = SpecialtyMod.columns.intersection(differences.columns)\n",
    "specialty_differences = row_specialty_differences[SpecialtyColumns]\n",
    "\n",
    "row_marketing_differences = differences.loc[differences.index.isin(MarketingUpdatesMod.index)]\n",
    "MarketingColumns = MarketingUpdatesMod.columns.intersection(differences.columns)\n",
    "marketing_differences = row_marketing_differences[MarketingColumns]\n"
   ],
   "metadata": {
    "collapsed": false,
    "ExecuteTime": {
     "end_time": "2024-02-21T18:24:56.878929600Z",
     "start_time": "2024-02-21T18:24:56.835284300Z"
    }
   },
   "id": "c2046824df16dfe2",
   "execution_count": 12
  },
  {
   "cell_type": "code",
   "outputs": [
    {
     "data": {
      "text/plain": "nan"
     },
     "execution_count": 13,
     "metadata": {},
     "output_type": "execute_result"
    }
   ],
   "source": [
    "a = UpdatedPayPlans['Amount ($): CP941']['P_TET_PE_STND:P Tetanus Pre-Existing Standard']\n",
    "b = OriginalPayPlans['Amount ($): CP941']['P_TET_PE_STND:P Tetanus Pre-Existing Standard']\n",
    "a"
   ],
   "metadata": {
    "collapsed": false,
    "ExecuteTime": {
     "end_time": "2024-02-21T18:24:56.892360700Z",
     "start_time": "2024-02-21T18:24:56.878929600Z"
    }
   },
   "id": "7e1d3089fb460e62",
   "execution_count": 13
  },
  {
   "cell_type": "code",
   "outputs": [],
   "source": [
    "from openpyxl import load_workbook\n",
    "import tempfile\n",
    "from openpyxl.styles import Font, PatternFill\n",
    "\n",
    "import io\n",
    "# import streamlit as st\n",
    "# uploaded_PayPlan = st.file_uploader(\"Upload Haemonetics Payment Plan Matrix\", type=['xlsx', 'xlsm'])\n",
    "    \n",
    "PayPlansNew = UpdatedPayPlans.copy()\n",
    "\n",
    "def PrepareFile(df, diff1, diff2, file_like_or_path):\n",
    "    # Save the uploaded file to a temporary file\n",
    "    if isinstance(file_like_or_path, str):\n",
    "        tmp_path = file_like_or_path\n",
    "    else:\n",
    "        with tempfile.NamedTemporaryFile(delete=False, suffix='.xlsx') as tmp:\n",
    "            tmp.write(uploaded_PayPlan.getvalue())\n",
    "            tmp_path = tmp.name\n",
    "\n",
    "    # Load the workbook and select the active worksheet\n",
    "    wb = load_workbook(filename=tmp_path)\n",
    "    ws = wb.active\n",
    "\n",
    "    # Assuming your data starts from column A and 'df' is your modified DataFrame\n",
    "    # Iterate over the DataFrame and update the cells starting from row 13 in Excel (index 12 in openpyxl)\n",
    "    for r in range(df.shape[0]):\n",
    "        for c in range(df.shape[1]):\n",
    "            if not pd.isna(df.iloc[r, c]):\n",
    "                cell = ws.cell(row=r + 13, column=c + 1, value=df.iloc[r, c])\n",
    "                column_name = df.columns[c]\n",
    "                row_name = df.index[r]\n",
    "                if column_name in diff1.columns and row_name in diff1.index:\n",
    "                    if diff1.loc[row_name, column_name]:\n",
    "                        cell.fill = PatternFill(start_color='ADD8E6', end_color='ADD8E6', fill_type='solid')\n",
    "                        cell.font = Font(color='000000')\n",
    "                if column_name in diff2.columns and row_name in diff2.index:\n",
    "                    if diff2.loc[row_name, column_name]:\n",
    "                        cell.fill = PatternFill(start_color='90EE90', end_color='90EE90', fill_type='solid')\n",
    "                        cell.font = Font(color='000000')\n",
    "\n",
    "    # Save the modified workbook to another temporary file\n",
    "    with tempfile.NamedTemporaryFile(delete=False, suffix='.xlsx') as tmp_modified:\n",
    "        wb.save(tmp_modified.name)\n",
    "        tmp_modified_path = tmp_modified.name\n",
    "\n",
    "    # Indicate to the user that the file is ready for download\n",
    "    # st.session_state['file_ready_for_download'] = True\n",
    "\n",
    "    return tmp_modified_path\n",
    "\n",
    "# if uploaded_PayPlan is not None:\n",
    "#     tmp_modified_file = PrepareFile(PayPlansNew, marketing_differences, specialty_differences, uploaded_PayPlan)\n",
    "\n",
    "tmp_modified_file = PrepareFile(PayPlansNew, marketing_differences, specialty_differences, '../data/paymentRulesMatrix.xlsx')"
   ],
   "metadata": {
    "collapsed": false,
    "ExecuteTime": {
     "end_time": "2024-02-21T18:24:58.805758800Z",
     "start_time": "2024-02-21T18:24:56.896364300Z"
    }
   },
   "id": "7bb7122d1c9449cc",
   "execution_count": 14
  },
  {
   "cell_type": "code",
   "outputs": [
    {
     "ename": "AttributeError",
     "evalue": "module 'pandas' has no attribute 'Int64'",
     "output_type": "error",
     "traceback": [
      "\u001B[1;31m---------------------------------------------------------------------------\u001B[0m",
      "\u001B[1;31mAttributeError\u001B[0m                            Traceback (most recent call last)",
      "Cell \u001B[1;32mIn[15], line 4\u001B[0m\n\u001B[0;32m      1\u001B[0m \u001B[38;5;28;01mimport\u001B[39;00m \u001B[38;5;21;01mpandas\u001B[39;00m \u001B[38;5;28;01mas\u001B[39;00m \u001B[38;5;21;01mpd\u001B[39;00m\n\u001B[0;32m      3\u001B[0m \u001B[38;5;66;03m# Example DataFrame with Int64 column containing <NA>\u001B[39;00m\n\u001B[1;32m----> 4\u001B[0m df \u001B[38;5;241m=\u001B[39m pd\u001B[38;5;241m.\u001B[39mDataFrame({\u001B[38;5;124m'\u001B[39m\u001B[38;5;124mcol1\u001B[39m\u001B[38;5;124m'\u001B[39m: pd\u001B[38;5;241m.\u001B[39mSeries([\u001B[38;5;241m1\u001B[39m, \u001B[38;5;241m2\u001B[39m, pd\u001B[38;5;241m.\u001B[39mNA, \u001B[38;5;241m4\u001B[39m], dtype\u001B[38;5;241m=\u001B[39m\u001B[43mpd\u001B[49m\u001B[38;5;241;43m.\u001B[39;49m\u001B[43mInt64\u001B[49m)})\n\u001B[0;32m      6\u001B[0m \u001B[38;5;66;03m# Replace <NA> with None\u001B[39;00m\n\u001B[0;32m      7\u001B[0m df[\u001B[38;5;124m'\u001B[39m\u001B[38;5;124mcol1\u001B[39m\u001B[38;5;124m'\u001B[39m] \u001B[38;5;241m=\u001B[39m df[\u001B[38;5;124m'\u001B[39m\u001B[38;5;124mcol1\u001B[39m\u001B[38;5;124m'\u001B[39m]\u001B[38;5;241m.\u001B[39mastype(\u001B[38;5;28mobject\u001B[39m)\u001B[38;5;241m.\u001B[39mreplace(pd\u001B[38;5;241m.\u001B[39mNA, \u001B[38;5;28;01mNone\u001B[39;00m)\n",
      "\u001B[1;31mAttributeError\u001B[0m: module 'pandas' has no attribute 'Int64'"
     ]
    }
   ],
   "source": [
    "import pandas as pd\n",
    "\n",
    "# Example DataFrame with Int64 column containing <NA>\n",
    "df = pd.DataFrame({'col1': pd.Series([1, 2, pd.NA, 4], dtype=pd.Int64)})\n",
    "\n",
    "# Replace <NA> with None\n",
    "df['col1'] = df['col1'].astype(object).replace(pd.NA, None)\n",
    "\n",
    "# Optionally, convert back to Int64 if you had converted to object for the replacement\n",
    "df['col1'] = df['col1'].astype('Int64')\n",
    "\n",
    "# Display the DataFrame\n",
    "print(df)"
   ],
   "metadata": {
    "collapsed": false,
    "ExecuteTime": {
     "end_time": "2024-02-21T18:24:59.334534900Z",
     "start_time": "2024-02-21T18:24:58.808760600Z"
    }
   },
   "id": "2512f5e2cf30434f",
   "execution_count": 15
  },
  {
   "cell_type": "code",
   "outputs": [],
   "source": [],
   "metadata": {
    "collapsed": false
   },
   "id": "8540fb6ab4cfa29"
  }
 ],
 "metadata": {
  "kernelspec": {
   "display_name": "Python 3",
   "language": "python",
   "name": "python3"
  },
  "language_info": {
   "codemirror_mode": {
    "name": "ipython",
    "version": 2
   },
   "file_extension": ".py",
   "mimetype": "text/x-python",
   "name": "python",
   "nbconvert_exporter": "python",
   "pygments_lexer": "ipython2",
   "version": "2.7.6"
  }
 },
 "nbformat": 4,
 "nbformat_minor": 5
}
